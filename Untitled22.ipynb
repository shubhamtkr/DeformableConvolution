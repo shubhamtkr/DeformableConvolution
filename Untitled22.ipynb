{
  "nbformat": 4,
  "nbformat_minor": 0,
  "metadata": {
    "colab": {
      "provenance": []
    },
    "kernelspec": {
      "name": "python3",
      "display_name": "Python 3"
    },
    "language_info": {
      "name": "python"
    }
  },
  "cells": [
    {
      "cell_type": "code",
      "source": [
        "import requests\n",
        "from zipfile import ZipFile\n",
        "import os\n",
        "import matplotlib.pyplot as plt\n",
        "import cv2\n",
        "import numpy as np\n",
        "import pandas as pd\n",
        "import gc\n",
        "import matplotlib.pyplot as plt"
      ],
      "metadata": {
        "id": "oSe_enzvn82N"
      },
      "execution_count": null,
      "outputs": []
    },
    {
      "cell_type": "code",
      "source": [
        "import torch\n",
        "import torch.nn as nn\n",
        "from torch.nn.modules.utils import _pair\n",
        "import math\n",
        "\n",
        "class DeformConv(nn.Module):\n",
        "\n",
        "  def __init__(self,\n",
        "             in_channels,\n",
        "             out_channels,\n",
        "             kernel_size,\n",
        "             stride=1,\n",
        "             padding=1,\n",
        "             dilation=1,\n",
        "             groups=1,\n",
        "             deformable_groups=1,\n",
        "             bias=False):\n",
        "\n",
        "    super(DeformConv, self).__init__()\n",
        "\n",
        "    assert not bias\n",
        "    assert groups == 1, 'Not support group larger than 1'\n",
        "    assert dilation == 1\n",
        "\n",
        "\n",
        "    self.in_channels = in_channels\n",
        "    self.out_channels = out_channels\n",
        "    self.kernel_size = _pair(kernel_size)\n",
        "    self.stride = _pair(stride)\n",
        "    self.padding = _pair(padding)\n",
        "    self.dilation = _pair(dilation)\n",
        "    self.groups = groups\n",
        "    self.deformable_groups = deformable_groups\n",
        "\n",
        "    self.weight = nn.Parameter(\n",
        "        torch.Tensor(out_channels, in_channels,\n",
        "                     *self.kernel_size))\n",
        "    if bias:\n",
        "        self.bias = nn.Parameter(torch.Tensor(out_channels))\n",
        "    else:\n",
        "        self.register_parameter('bias', None)\n",
        "    self.reset_parameters()\n",
        "\n",
        "    # manually set device if necessary\n",
        "    self.device = 'cuda' if torch.cuda.is_available() else 'cpu'\n",
        "\n",
        "    self.coord = None\n",
        "\n",
        "\n",
        "  def reset_parameters(self):\n",
        "    n = self.in_channels\n",
        "    for k in self.kernel_size:\n",
        "      n *= k\n",
        "    stdv = 1. / math.sqrt(n)\n",
        "    self.weight.data.uniform_(-stdv, stdv)\n",
        "\n",
        "  def _cache_at_first_time_run(self, h, w):\n",
        "    low = - (self.kernel_size[0]//2)\n",
        "    hi  = self.kernel_size[0]//2\n",
        "    grid_i, grid_j = torch.meshgrid(torch.arange(low, h+hi, device=self.device),\n",
        "                                        torch.arange(low, w+hi, device=self.device))\n",
        "    self.coord = torch.cat((grid_i.unsqueeze(2), grid_j.unsqueeze(2)), 2) # h+2 x w+2 x 2\n",
        "\n",
        "    # check out im2col procedure for more information\n",
        "    self.coord = torch.as_strided(self.coord, size = (h, w, *self.kernel_size, 2),\n",
        "                                  stride=(*((self.coord.stride(0), self.coord.stride(1))*2),\n",
        "                                          self.coord.stride(2)) )\n",
        "    self.coord = self.coord.contiguous().view(1, h, w, -1, 2).float()\n",
        "    self.coord.requires_grad = False\n",
        "\n",
        "  def forward(self, x, offset):\n",
        "    '''\n",
        "    x: input Tensor of shape [N x C x H x W]\n",
        "    offset: Tensor of shape [N x 18 x H x W] for 3x3 cnn kernel\n",
        "    the \"18\" dimension are offset coordinates, arranged in order:\n",
        "\n",
        "     ((tlh, tlw), (tmh, tmw), (trh, trw),\n",
        "      (mlh, mlw), (mmh, mmw), (mrh, mrw),\n",
        "      (blh, blw), (bmh, bmw), (brh, brw))\n",
        "\n",
        "      t: top, m: middle, b: bottom\n",
        "      l: left, r: right\n",
        "      h: hight or i, w: width or j\n",
        "\n",
        "      note:\n",
        "        bilinear interpolation with proximity outside of image are set to 0 (not the interpolated point)\n",
        "    '''\n",
        "    b, c, h, w = x.shape\n",
        "    if self.coord is None:\n",
        "      self._cache_at_first_time_run(h,w)\n",
        "\n",
        "\n",
        "    offset = offset.view(b, self.kernel_size[0]**2, 2, h, w).permute([0,3,4,1,2]) # b, h, w, 9, 2\n",
        "    print(offset.shape, self.coord.shape)\n",
        "    coord = offset + self.coord\n",
        "\n",
        "    coord_lt = coord.floor().long() # b, h, w, 9, 2\n",
        "    coord_rb = coord.ceil().long()\n",
        "    coord_rt = torch.stack([coord_lt[..., 0], coord_rb[..., 1]], -1)\n",
        "    coord_lb = torch.stack([coord_rb[..., 0], coord_lt[..., 1]], -1)\n",
        "\n",
        "    vals_lt = self._sampling(x, coord_lt.detach())\n",
        "    vals_rb = self._sampling(x, coord_rb.detach())\n",
        "    vals_lb = self._sampling(x, coord_lb.detach())\n",
        "    vals_rt = self._sampling(x, coord_rt.detach())\n",
        "\n",
        "    fract = coord - coord_lt.float()\n",
        "    fract = fract.unsqueeze(1)\n",
        "    vals_t = self._interpolate(vals_lt, vals_rt, fract[..., 1])\n",
        "    vals_b = self._interpolate(vals_lb, vals_rb, fract[..., 1])\n",
        "\n",
        "    mapped_vals = self._interpolate(vals_t, vals_b, fract[..., 0])\n",
        "    mapped_vals = mapped_vals.permute([1, 4, 0, 2, 3]).reshape(-1, b*h*w)\n",
        "    output = torch.matmul(self.weight.view(self.out_channels, -1), mapped_vals) # C' x (B x H x W)\n",
        "\n",
        "    return output.view(self.out_channels, b, h, w).permute([1,0,2,3])\n",
        "\n",
        "  def _sampling(self, x: torch.Tensor, coord: torch.Tensor):\n",
        "    b, c, h, w = x.shape\n",
        "    # coord : b, h, w, 9, 2\n",
        "    k = self.kernel_size[0]**2\n",
        "    coord = coord.reshape(b, 1, -1, 2).repeat(1,c,1,1).view(b*c, -1, 2)\n",
        "    outside = (coord[..., 0] >= h) + (coord[..., 0] < 0) + \\\n",
        "              (coord[..., 1] >= w) + (coord[..., 1] < 0)\n",
        "\n",
        "    indx = coord[..., 0]*w + coord[..., 1] + \\\n",
        "            (h*w*torch.arange(c*b, device=self.device)).view(-1, 1)\n",
        "    print(indx)\n",
        "    x = x.view(-1).index_select(0, indx.view(-1).clamp(0, b*c*h*w-1))\n",
        "    x[outside.view(-1)] = 0\n",
        "    return x.reshape(b, c, h, w, k)\n",
        "\n",
        "  @staticmethod\n",
        "  def _interpolate(x: torch.Tensor, y: torch.Tensor, frac: torch.Tensor):\n",
        "    '''\n",
        "    Linear interpolation between x and y\n",
        "    Sub-routine for bi-linear interpolation\n",
        "    '''\n",
        "    return x + frac*(y-x)\n"
      ],
      "metadata": {
        "id": "5z_7SSSHoOez"
      },
      "execution_count": null,
      "outputs": []
    },
    {
      "cell_type": "code",
      "source": [
        "device = 'cuda:0' if torch.cuda.is_available() else 'cpu'\n",
        "myDeform = DeformConv(3, 3, 3)\n",
        "myDeform.to(device)\n",
        "\n",
        "input = torch.rand(1, 3, 30, 30,device=device)\n",
        "offset = torch.rand(1, 18, 30, 30).to(device)\n",
        "\n",
        "my = myDeform(input, offset)\n",
        "my.shape"
      ],
      "metadata": {
        "colab": {
          "base_uri": "https://localhost:8080/"
        },
        "id": "YFT5uOwtoBa-",
        "outputId": "cdf7cfdd-b4a9-4b91-868b-e2b9b6159100"
      },
      "execution_count": null,
      "outputs": [
        {
          "output_type": "stream",
          "name": "stdout",
          "text": [
            "torch.Size([1, 30, 30, 9, 2]) torch.Size([1, 30, 30, 9, 2])\n",
            "tensor([[ -31,  -30,  -29,  ...,  928,  929,  930],\n",
            "        [ 869,  870,  871,  ..., 1828, 1829, 1830],\n",
            "        [1769, 1770, 1771,  ..., 2728, 2729, 2730]])\n",
            "tensor([[   0,    1,    2,  ...,  959,  960,  961],\n",
            "        [ 900,  901,  902,  ..., 1859, 1860, 1861],\n",
            "        [1800, 1801, 1802,  ..., 2759, 2760, 2761]])\n",
            "tensor([[  -1,    0,    1,  ...,  958,  959,  960],\n",
            "        [ 899,  900,  901,  ..., 1858, 1859, 1860],\n",
            "        [1799, 1800, 1801,  ..., 2758, 2759, 2760]])\n",
            "tensor([[ -30,  -29,  -28,  ...,  929,  930,  931],\n",
            "        [ 870,  871,  872,  ..., 1829, 1830, 1831],\n",
            "        [1770, 1771, 1772,  ..., 2729, 2730, 2731]])\n"
          ]
        },
        {
          "output_type": "stream",
          "name": "stderr",
          "text": [
            "/usr/local/lib/python3.10/dist-packages/torch/functional.py:504: UserWarning: torch.meshgrid: in an upcoming release, it will be required to pass the indexing argument. (Triggered internally at ../aten/src/ATen/native/TensorShape.cpp:3526.)\n",
            "  return _VF.meshgrid(tensors, **kwargs)  # type: ignore[attr-defined]\n"
          ]
        },
        {
          "output_type": "execute_result",
          "data": {
            "text/plain": [
              "torch.Size([1, 3, 30, 30])"
            ]
          },
          "metadata": {},
          "execution_count": 7
        }
      ]
    },
    {
      "cell_type": "code",
      "source": [
        "from  torchvision.ops.deform_conv import DeformConv2d as Deform_torch\n",
        "!pip install torchvision==0.12.0"
      ],
      "metadata": {
        "colab": {
          "base_uri": "https://localhost:8080/",
          "height": 609
        },
        "id": "nQfALJQsoXQj",
        "outputId": "0e3e1e2f-e5e8-4878-9764-4ce5f8fc2f53"
      },
      "execution_count": null,
      "outputs": [
        {
          "output_type": "stream",
          "name": "stdout",
          "text": [
            "Collecting torchvision==0.12.0\n",
            "  Downloading torchvision-0.12.0-cp310-cp310-manylinux1_x86_64.whl (21.0 MB)\n",
            "\u001b[2K     \u001b[90m━━━━━━━━━━━━━━━━━━━━━━━━━━━━━━━━━━━━━━━━\u001b[0m \u001b[32m21.0/21.0 MB\u001b[0m \u001b[31m70.4 MB/s\u001b[0m eta \u001b[36m0:00:00\u001b[0m\n",
            "\u001b[?25hRequirement already satisfied: typing-extensions in /usr/local/lib/python3.10/dist-packages (from torchvision==0.12.0) (4.5.0)\n",
            "Requirement already satisfied: numpy in /usr/local/lib/python3.10/dist-packages (from torchvision==0.12.0) (1.23.5)\n",
            "Requirement already satisfied: requests in /usr/local/lib/python3.10/dist-packages (from torchvision==0.12.0) (2.31.0)\n",
            "Collecting torch==1.11.0 (from torchvision==0.12.0)\n",
            "  Downloading torch-1.11.0-cp310-cp310-manylinux1_x86_64.whl (750.6 MB)\n",
            "\u001b[2K     \u001b[90m━━━━━━━━━━━━━━━━━━━━━━━━━━━━━━━━━━━━━━━━\u001b[0m \u001b[32m750.6/750.6 MB\u001b[0m \u001b[31m1.9 MB/s\u001b[0m eta \u001b[36m0:00:00\u001b[0m\n",
            "\u001b[?25hRequirement already satisfied: pillow!=8.3.*,>=5.3.0 in /usr/local/lib/python3.10/dist-packages (from torchvision==0.12.0) (9.4.0)\n",
            "Requirement already satisfied: charset-normalizer<4,>=2 in /usr/local/lib/python3.10/dist-packages (from requests->torchvision==0.12.0) (3.3.2)\n",
            "Requirement already satisfied: idna<4,>=2.5 in /usr/local/lib/python3.10/dist-packages (from requests->torchvision==0.12.0) (3.4)\n",
            "Requirement already satisfied: urllib3<3,>=1.21.1 in /usr/local/lib/python3.10/dist-packages (from requests->torchvision==0.12.0) (2.0.7)\n",
            "Requirement already satisfied: certifi>=2017.4.17 in /usr/local/lib/python3.10/dist-packages (from requests->torchvision==0.12.0) (2023.7.22)\n",
            "Installing collected packages: torch, torchvision\n",
            "  Attempting uninstall: torch\n",
            "    Found existing installation: torch 2.1.0+cu118\n",
            "    Uninstalling torch-2.1.0+cu118:\n",
            "      Successfully uninstalled torch-2.1.0+cu118\n",
            "  Attempting uninstall: torchvision\n",
            "    Found existing installation: torchvision 0.16.0+cu118\n",
            "    Uninstalling torchvision-0.16.0+cu118:\n",
            "      Successfully uninstalled torchvision-0.16.0+cu118\n",
            "\u001b[31mERROR: pip's dependency resolver does not currently take into account all the packages that are installed. This behaviour is the source of the following dependency conflicts.\n",
            "torchaudio 2.1.0+cu118 requires torch==2.1.0, but you have torch 1.11.0 which is incompatible.\n",
            "torchdata 0.7.0 requires torch==2.1.0, but you have torch 1.11.0 which is incompatible.\n",
            "torchtext 0.16.0 requires torch==2.1.0, but you have torch 1.11.0 which is incompatible.\u001b[0m\u001b[31m\n",
            "\u001b[0mSuccessfully installed torch-1.11.0 torchvision-0.12.0\n"
          ]
        },
        {
          "output_type": "display_data",
          "data": {
            "application/vnd.colab-display-data+json": {
              "pip_warning": {
                "packages": [
                  "torch",
                  "torchvision"
                ]
              }
            }
          },
          "metadata": {}
        }
      ]
    },
    {
      "cell_type": "code",
      "source": [
        "deform_code = Deform_torch( in_channels=1,\n",
        "        out_channels=3,\n",
        "        kernel_size=3,\n",
        "        stride= 1,\n",
        "        padding =1,\n",
        "        dilation= 1,\n",
        "        groups = 1,\n",
        "        bias = False,).to(device)\n",
        "\n",
        "deform_code.weight.data=myDeform.weight.data\n",
        "res = deform_code(input, offset)\n",
        "\n",
        "print(res.shape)\n",
        "print((res-my).square().sum())"
      ],
      "metadata": {
        "colab": {
          "base_uri": "https://localhost:8080/"
        },
        "id": "PPPFOa92oawg",
        "outputId": "4ba8b898-6bd5-425f-8ad2-a64edeea833e"
      },
      "execution_count": null,
      "outputs": [
        {
          "output_type": "stream",
          "name": "stdout",
          "text": [
            "torch.Size([1, 3, 30, 30])\n",
            "tensor(2.3304e-12, grad_fn=<SumBackward0>)\n"
          ]
        }
      ]
    },
    {
      "cell_type": "code",
      "source": [
        "plt.imshow(res.detach().cpu()[0].permute([1,2,0]))\n"
      ],
      "metadata": {
        "colab": {
          "base_uri": "https://localhost:8080/",
          "height": 484
        },
        "id": "-JUe7NTjossi",
        "outputId": "5f667fca-5edb-46f7-9b48-814e1c012940"
      },
      "execution_count": null,
      "outputs": [
        {
          "output_type": "stream",
          "name": "stderr",
          "text": [
            "WARNING:matplotlib.image:Clipping input data to the valid range for imshow with RGB data ([0..1] for floats or [0..255] for integers).\n"
          ]
        },
        {
          "output_type": "execute_result",
          "data": {
            "text/plain": [
              "<matplotlib.image.AxesImage at 0x7ff8768966e0>"
            ]
          },
          "metadata": {},
          "execution_count": 12
        },
        {
          "output_type": "display_data",
          "data": {
            "text/plain": [
              "<Figure size 640x480 with 1 Axes>"
            ],
            "image/png": "[encoded data removed]"
          },
          "metadata": {}
        }
      ]
    },
    {
      "cell_type": "code",
      "source": [
        "plt.imshow(my.detach().cpu()[0].permute([1,2,0]))"
      ],
      "metadata": {
        "colab": {
          "base_uri": "https://localhost:8080/",
          "height": 484
        },
        "id": "sORK4VGvouK7",
        "outputId": "b99394d4-21d0-44fb-a95e-422cc715b088"
      },
      "execution_count": null,
      "outputs": [
        {
          "output_type": "stream",
          "name": "stderr",
          "text": [
            "WARNING:matplotlib.image:Clipping input data to the valid range for imshow with RGB data ([0..1] for floats or [0..255] for integers).\n"
          ]
        },
        {
          "output_type": "execute_result",
          "data": {
            "text/plain": [
              "<matplotlib.image.AxesImage at 0x7ff952a893c0>"
            ]
          },
          "metadata": {},
          "execution_count": 13
        },
        {
          "output_type": "display_data",
          "data": {
            "text/plain": [
              "<Figure size 640x480 with 1 Axes>"
            ],
            "image/png": "[encoded data removed]"
          },
          "metadata": {}
        }
      ]
    },
    {
      "cell_type": "code",
      "source": [
        "print(res)\n",
        "print('='*20)\n",
        "print(my)"
      ],
      "metadata": {
        "colab": {
          "base_uri": "https://localhost:8080/"
        },
        "id": "nCT17kvcowQo",
        "outputId": "73652c7d-eab9-4b69-89fd-bd10b905c996"
      },
      "execution_count": null,
      "outputs": [
        {
          "output_type": "stream",
          "name": "stdout",
          "text": [
            "tensor([[[[ 0.2565,  0.4829,  0.5785,  ...,  0.3267,  0.2795,  0.1505],\n",
            "          [ 0.3537,  0.4494,  0.5101,  ...,  0.5384,  0.3942,  0.0640],\n",
            "          [ 0.4653,  0.4623,  0.4946,  ...,  0.6613,  0.3343,  0.1026],\n",
            "          ...,\n",
            "          [ 0.4819,  0.4954,  0.3590,  ...,  0.7557,  0.2509,  0.0335],\n",
            "          [ 0.3994,  0.6034,  0.6499,  ...,  0.6711,  0.3929,  0.0794],\n",
            "          [ 0.2931,  0.4716,  0.4243,  ...,  0.4754,  0.3430,  0.1009]],\n",
            "\n",
            "         [[ 0.0965,  0.0794,  0.0278,  ...,  0.3070,  0.2789,  0.2016],\n",
            "          [ 0.1361,  0.1618,  0.1724,  ...,  0.4927,  0.3118,  0.0641],\n",
            "          [ 0.1389,  0.2552,  0.4619,  ...,  0.3367,  0.2720,  0.1180],\n",
            "          ...,\n",
            "          [ 0.1800,  0.0653,  0.2015,  ...,  0.4209,  0.1866,  0.0484],\n",
            "          [ 0.2183,  0.0649,  0.0684,  ...,  0.4766,  0.1375, -0.0148],\n",
            "          [ 0.0123,  0.1846,  0.1026,  ...,  0.1722,  0.0247,  0.0180]],\n",
            "\n",
            "         [[ 0.2569,  0.0636,  0.2589,  ..., -0.1080, -0.0172,  0.1010],\n",
            "          [ 0.0926,  0.3368,  0.2985,  ...,  0.1751,  0.0099,  0.1395],\n",
            "          [ 0.0687,  0.2674,  0.1745,  ...,  0.0244,  0.0832,  0.0192],\n",
            "          ...,\n",
            "          [ 0.2881,  0.3969,  0.2095,  ...,  0.2086,  0.2204,  0.1148],\n",
            "          [ 0.1492,  0.2723,  0.3216,  ...,  0.0073,  0.1347,  0.0667],\n",
            "          [ 0.0920,  0.0761,  0.1598,  ...,  0.1337,  0.2144,  0.0705]]]],\n",
            "       grad_fn=<DeformConv2dFunction>>)\n",
            "====================\n",
            "tensor([[[[ 0.2565,  0.4829,  0.5785,  ...,  0.3267,  0.2795,  0.1505],\n",
            "          [ 0.3537,  0.4494,  0.5101,  ...,  0.5384,  0.3942,  0.0640],\n",
            "          [ 0.4653,  0.4623,  0.4946,  ...,  0.6613,  0.3343,  0.1026],\n",
            "          ...,\n",
            "          [ 0.4819,  0.4954,  0.3590,  ...,  0.7557,  0.2509,  0.0335],\n",
            "          [ 0.3994,  0.6034,  0.6499,  ...,  0.6711,  0.3929,  0.0794],\n",
            "          [ 0.2931,  0.4716,  0.4243,  ...,  0.4754,  0.3430,  0.1009]],\n",
            "\n",
            "         [[ 0.0965,  0.0794,  0.0278,  ...,  0.3070,  0.2789,  0.2016],\n",
            "          [ 0.1361,  0.1618,  0.1724,  ...,  0.4927,  0.3118,  0.0641],\n",
            "          [ 0.1389,  0.2552,  0.4619,  ...,  0.3367,  0.2720,  0.1180],\n",
            "          ...,\n",
            "          [ 0.1800,  0.0653,  0.2015,  ...,  0.4209,  0.1866,  0.0484],\n",
            "          [ 0.2183,  0.0649,  0.0684,  ...,  0.4766,  0.1375, -0.0148],\n",
            "          [ 0.0123,  0.1846,  0.1026,  ...,  0.1722,  0.0247,  0.0180]],\n",
            "\n",
            "         [[ 0.2569,  0.0636,  0.2589,  ..., -0.1080, -0.0172,  0.1010],\n",
            "          [ 0.0926,  0.3368,  0.2985,  ...,  0.1751,  0.0099,  0.1395],\n",
            "          [ 0.0687,  0.2674,  0.1745,  ...,  0.0244,  0.0832,  0.0192],\n",
            "          ...,\n",
            "          [ 0.2881,  0.3969,  0.2095,  ...,  0.2086,  0.2204,  0.1148],\n",
            "          [ 0.1492,  0.2723,  0.3216,  ...,  0.0073,  0.1347,  0.0667],\n",
            "          [ 0.0920,  0.0761,  0.1598,  ...,  0.1337,  0.2144,  0.0705]]]],\n",
            "       grad_fn=<PermuteBackward0>)\n"
          ]
        }
      ]
    },
    {
      "cell_type": "code",
      "source": [
        "class ModulatedDeformConv(nn.Module):\n",
        "\n",
        "  def __init__(self,\n",
        "                 in_channels,\n",
        "                 out_channels,\n",
        "                 kernel_size,\n",
        "                 stride=1,\n",
        "                 padding=1,\n",
        "                 dilation=1,\n",
        "                 groups=1,\n",
        "                 deformable_groups=1,\n",
        "                 bias=True):\n",
        "\n",
        "    assert deformable_groups == 1\n",
        "    assert groups == 1\n",
        "\n",
        "    super(ModulatedDeformConv, self).__init__()\n",
        "    self.in_channels = in_channels\n",
        "    self.out_channels = out_channels\n",
        "    self.kernel_size = _pair(kernel_size)\n",
        "    self.stride = stride\n",
        "    self.padding = padding\n",
        "    self.dilation = dilation\n",
        "    self.groups = groups\n",
        "    self.deformable_groups = deformable_groups\n",
        "    self.with_bias = bias\n",
        "\n",
        "    self.weight = nn.Parameter(\n",
        "      torch.Tensor(out_channels, in_channels // groups,\n",
        "                   *self.kernel_size))\n",
        "    if bias:\n",
        "      self.bias = nn.Parameter(torch.Tensor(out_channels))\n",
        "    else:\n",
        "      self.register_parameter('bias', None)\n",
        "    self.reset_parameters()\n",
        "\n",
        "    # manually set device if necessary\n",
        "    self.device = 'cuda' if torch.cuda.is_available() else 'cpu'\n",
        "\n",
        "    self.coord = None\n",
        "\n",
        "  def reset_parameters(self):\n",
        "    n = self.in_channels\n",
        "    for k in self.kernel_size:\n",
        "        n *= k\n",
        "    stdv = 1. / math.sqrt(n)\n",
        "    self.weight.data.uniform_(-stdv, stdv)\n",
        "    if self.bias is not None:\n",
        "        self.bias.data.zero_()\n",
        "\n",
        "  def _cache_at_first_time_run(self, h, w):\n",
        "    low = - (self.kernel_size[0]//2)\n",
        "    hi  = self.kernel_size[0]//2\n",
        "    grid_i, grid_j = torch.meshgrid(torch.arange(low, h+hi, device=self.device),\n",
        "                                        torch.arange(low, w+hi, device=self.device))\n",
        "    self.coord = torch.cat((grid_i.unsqueeze(2), grid_j.unsqueeze(2)), 2) # h+2 x w+2 x 2\n",
        "\n",
        "    # check out im2col procedure for more information\n",
        "    self.coord = torch.as_strided(self.coord, size = (h, w, *self.kernel_size, 2),\n",
        "                                  stride=(*((self.coord.stride(0), self.coord.stride(1))*2),\n",
        "                                          self.coord.stride(2)) )\n",
        "    self.coord = self.coord.contiguous().view(1, h, w, -1, 2).float()\n",
        "    self.coord.requires_grad = False\n",
        "\n",
        "  def forward(self, x, offset, mask):\n",
        "    # mask: B x 9 x H x W\n",
        "    b, c, h, w = x.shape\n",
        "    if self.coord is None:\n",
        "      self._cache_at_first_time_run(h,w)\n",
        "\n",
        "    offset = offset.view(b, self.kernel_size[0]**2, 2, h, w).permute([0,3,4,1,2]) # b, h, w, 9, 2\n",
        "    coord = offset + self.coord\n",
        "\n",
        "    coord_lt = coord.floor().long().detach() # b, h, w, 9, 2\n",
        "    coord_rb = coord.ceil().long().detach()\n",
        "    coord_rt = torch.stack([coord_lt[..., 0], coord_rb[..., 1]], -1)\n",
        "    coord_lb = torch.stack([coord_rb[..., 0], coord_lt[..., 1]], -1)\n",
        "\n",
        "    vals_lt = self._sampling(x, coord_lt.detach())\n",
        "    vals_rb = self._sampling(x, coord_rb.detach())\n",
        "    vals_lb = self._sampling(x, coord_lb.detach())\n",
        "    vals_rt = self._sampling(x, coord_rt.detach())\n",
        "\n",
        "    fract = coord - coord_lt.float()\n",
        "    vals_t = self._interpolate(vals_lt, vals_rt, fract[..., 1])\n",
        "    vals_b = self._interpolate(vals_lb, vals_rb, fract[..., 1])\n",
        "\n",
        "    mapped_vals = self._interpolate(vals_t, vals_b, fract[..., 0])\n",
        "    mapped_vals = mapped_vals.permute([1, 4, 0, 2, 3])\n",
        "    mapped_vals = mapped_vals * mask.permute([1,0,2,3]).unsqueeze(0)\n",
        "    mapped_vals = mapped_vals.reshape(-1, b*h*w) # C9 x BHW\n",
        "    output = torch.matmul(self.weight.view(self.out_channels, -1), mapped_vals) # C' x (B x H x W)\n",
        "\n",
        "    return output.view(self.out_channels, b, h, w).permute([1,0,2,3])\n",
        "\n",
        "  def _sampling(self, x: torch.Tensor, coord: torch.Tensor):\n",
        "    b, c, h, w = x.shape\n",
        "    # coord : b, h, w, 9, 2\n",
        "    k = self.kernel_size[0]**2\n",
        "    coord = coord.reshape(b, 1, -1, 2).repeat(1,c,1,1).view(b*c, -1, 2)\n",
        "    outside = (coord[..., 0] >= h) + (coord[..., 0] < 0) + \\\n",
        "              (coord[..., 1] >= w) + (coord[..., 1] < 0)\n",
        "\n",
        "    indx = coord[..., 0]*w + coord[..., 1] + \\\n",
        "            (h*w*torch.arange(c*b, device=self.device)).view(-1, 1)\n",
        "\n",
        "    x = x.view(-1).index_select(0, indx.view(-1).clamp(0, b*c*h*w-1))\n",
        "    x[outside.view(-1)] = 0\n",
        "    return x.reshape(b, c, h, w, k)\n",
        "\n",
        "  @staticmethod\n",
        "  def _interpolate(x: torch.Tensor, y: torch.Tensor, frac: torch.Tensor):\n",
        "    '''\n",
        "    Linear interpolation between x and y\n",
        "    Sub-routine for bi-linear interpolation\n",
        "    '''\n",
        "    return x + frac*(y-x)"
      ],
      "metadata": {
        "id": "cIRNpwm-o6w1"
      },
      "execution_count": null,
      "outputs": []
    },
    {
      "cell_type": "code",
      "source": [
        "myDeform = ModulatedDeformConv(3, 3, 3)\n",
        "w = torch.arange(81).view(3, 3, 3, 3)\n",
        "myDeform.to(device)\n",
        "\n",
        "mask = torch.rand((input.shape[0], 9, *input.shape[2:]),device = device)\n",
        "my = myDeform(input, offset, mask)\n",
        "my.shape"
      ],
      "metadata": {
        "colab": {
          "base_uri": "https://localhost:8080/"
        },
        "id": "XCcdOovupfPb",
        "outputId": "f3e0bc1b-ec47-4b60-cc45-afbe481820c8"
      },
      "execution_count": null,
      "outputs": [
        {
          "output_type": "execute_result",
          "data": {
            "text/plain": [
              "torch.Size([1, 3, 30, 30])"
            ]
          },
          "metadata": {},
          "execution_count": 16
        }
      ]
    },
    {
      "cell_type": "code",
      "source": [
        "from  torchvision.ops.deform_conv import DeformConv2d as theirDeform\n"
      ],
      "metadata": {
        "id": "t1l2fcZspi3E"
      },
      "execution_count": null,
      "outputs": []
    },
    {
      "cell_type": "code",
      "source": [
        "inspect.getmembers( torchvision.ops.deform_conv, inspect.isclass)\n"
      ],
      "metadata": {
        "colab": {
          "base_uri": "https://localhost:8080/",
          "height": 174
        },
        "id": "KhNumyd1pk5M",
        "outputId": "5f80eb23-16b5-47ea-ead5-76a15272cea8"
      },
      "execution_count": null,
      "outputs": [
        {
          "output_type": "error",
          "ename": "NameError",
          "evalue": "ignored",
          "traceback": [
            "\u001b[0;31m---------------------------------------------------------------------------\u001b[0m",
            "\u001b[0;31mNameError\u001b[0m                                 Traceback (most recent call last)",
            "\u001b[0;32m<ipython-input-18-06c594e68ef2>\u001b[0m in \u001b[0;36m<cell line: 1>\u001b[0;34m()\u001b[0m\n\u001b[0;32m----> 1\u001b[0;31m \u001b[0minspect\u001b[0m\u001b[0;34m.\u001b[0m\u001b[0mgetmembers\u001b[0m\u001b[0;34m(\u001b[0m \u001b[0mtorchvision\u001b[0m\u001b[0;34m.\u001b[0m\u001b[0mops\u001b[0m\u001b[0;34m.\u001b[0m\u001b[0mdeform_conv\u001b[0m\u001b[0;34m,\u001b[0m \u001b[0minspect\u001b[0m\u001b[0;34m.\u001b[0m\u001b[0misclass\u001b[0m\u001b[0;34m)\u001b[0m\u001b[0;34m\u001b[0m\u001b[0;34m\u001b[0m\u001b[0m\n\u001b[0m",
            "\u001b[0;31mNameError\u001b[0m: name 'inspect' is not defined"
          ]
        }
      ]
    },
    {
      "cell_type": "code",
      "source": [
        "import torchvision\n",
        "import inspect\n",
        "inspect.getfullargspec(torchvision.ops.deform_conv.deform_conv2d)"
      ],
      "metadata": {
        "colab": {
          "base_uri": "https://localhost:8080/"
        },
        "id": "niVZVOQIpmUF",
        "outputId": "3e3a18cc-97cb-43f2-a810-9459fa86f8e0"
      },
      "execution_count": null,
      "outputs": [
        {
          "output_type": "execute_result",
          "data": {
            "text/plain": [
              "FullArgSpec(args=['input', 'offset', 'weight', 'bias', 'stride', 'padding', 'dilation', 'mask'], varargs=None, varkw=None, defaults=(None, (1, 1), (0, 0), (1, 1), None), kwonlyargs=[], kwonlydefaults=None, annotations={'return': <class 'torch.Tensor'>, 'input': <class 'torch.Tensor'>, 'offset': <class 'torch.Tensor'>, 'weight': <class 'torch.Tensor'>, 'bias': typing.Optional[torch.Tensor], 'stride': typing.Tuple[int, int], 'padding': typing.Tuple[int, int], 'dilation': typing.Tuple[int, int], 'mask': typing.Optional[torch.Tensor]})"
            ]
          },
          "metadata": {},
          "execution_count": 19
        }
      ]
    },
    {
      "cell_type": "code",
      "source": [
        "theirs = theirDeform(3, 3, 3, padding=1, bias=False)\n",
        "theirs.weight.data.copy_(myDeform.weight.data)\n",
        "theirs.to(device)\n",
        "\n",
        "t = theirs(input, offset,mask=mask)\n",
        "print(t.shape)\n",
        "print((t-my).square().sum())"
      ],
      "metadata": {
        "colab": {
          "base_uri": "https://localhost:8080/"
        },
        "id": "laD29ro5po1i",
        "outputId": "05ceaac1-4428-4000-f34c-c72a156c9a82"
      },
      "execution_count": null,
      "outputs": [
        {
          "output_type": "stream",
          "name": "stdout",
          "text": [
            "torch.Size([1, 3, 30, 30])\n",
            "tensor(6.4355e-13, grad_fn=<SumBackward0>)\n"
          ]
        }
      ]
    },
    {
      "cell_type": "code",
      "source": [
        "plt.imshow(t.detach().cpu()[0].permute([1,2,0]))\n"
      ],
      "metadata": {
        "colab": {
          "base_uri": "https://localhost:8080/",
          "height": 484
        },
        "id": "KgDvDuUqpr6G",
        "outputId": "2d239fe0-90eb-445b-f07d-4e890b5b7891"
      },
      "execution_count": null,
      "outputs": [
        {
          "output_type": "stream",
          "name": "stderr",
          "text": [
            "WARNING:matplotlib.image:Clipping input data to the valid range for imshow with RGB data ([0..1] for floats or [0..255] for integers).\n"
          ]
        },
        {
          "output_type": "execute_result",
          "data": {
            "text/plain": [
              "<matplotlib.image.AxesImage at 0x7ff873a345e0>"
            ]
          },
          "metadata": {},
          "execution_count": 21
        },
        {
          "output_type": "display_data",
          "data": {
            "text/plain": [
              "<Figure size 640x480 with 1 Axes>"
            ],
            "image/png": "[encoded data removed]"
          },
          "metadata": {}
        }
      ]
    },
    {
      "cell_type": "code",
      "source": [
        "plt.imshow(my.detach().cpu()[0].permute([1,2,0]))\n"
      ],
      "metadata": {
        "colab": {
          "base_uri": "https://localhost:8080/",
          "height": 484
        },
        "id": "p_KcoyLNpt_K",
        "outputId": "856e6f53-5b12-4b56-85f6-01070663b083"
      },
      "execution_count": null,
      "outputs": [
        {
          "output_type": "stream",
          "name": "stderr",
          "text": [
            "WARNING:matplotlib.image:Clipping input data to the valid range for imshow with RGB data ([0..1] for floats or [0..255] for integers).\n"
          ]
        },
        {
          "output_type": "execute_result",
          "data": {
            "text/plain": [
              "<matplotlib.image.AxesImage at 0x7ff873add8a0>"
            ]
          },
          "metadata": {},
          "execution_count": 22
        },
        {
          "output_type": "display_data",
          "data": {
            "text/plain": [
              "<Figure size 640x480 with 1 Axes>"
            ],
            "image/png": "[encoded data removed]"
          },
          "metadata": {}
        }
      ]
    },
    {
      "cell_type": "code",
      "source": [
        "print(t)\n",
        "print('='*20)\n",
        "print(my)"
      ],
      "metadata": {
        "colab": {
          "base_uri": "https://localhost:8080/"
        },
        "id": "ONEFUav9pvdl",
        "outputId": "89b138f2-2cff-4532-def7-fe4f0a38e4c4"
      },
      "execution_count": null,
      "outputs": [
        {
          "output_type": "stream",
          "name": "stdout",
          "text": [
            "tensor([[[[-0.0533, -0.1094, -0.1295,  ..., -0.1028, -0.2283, -0.0099],\n",
            "          [-0.0296,  0.1286,  0.0074,  ..., -0.0488, -0.1632,  0.0092],\n",
            "          [ 0.0053,  0.0940,  0.0029,  ..., -0.1071, -0.2066,  0.0018],\n",
            "          ...,\n",
            "          [-0.1232, -0.0276, -0.1642,  ..., -0.1078,  0.0006,  0.0322],\n",
            "          [-0.0970, -0.0968, -0.1419,  ..., -0.2306, -0.1562, -0.0193],\n",
            "          [-0.0456, -0.0495, -0.0091,  ..., -0.1292, -0.1094, -0.0222]],\n",
            "\n",
            "         [[-0.1869, -0.2770, -0.1584,  ..., -0.0078, -0.1150, -0.0606],\n",
            "          [-0.1206,  0.0782, -0.1262,  ..., -0.2071,  0.0137,  0.0331],\n",
            "          [-0.2159, -0.1292, -0.1817,  ..., -0.1855, -0.2058, -0.0954],\n",
            "          ...,\n",
            "          [-0.2624, -0.1842, -0.1941,  ..., -0.1560,  0.0671, -0.0356],\n",
            "          [-0.1848, -0.3355, -0.2486,  ..., -0.3635, -0.1832, -0.0889],\n",
            "          [-0.1595, -0.1461, -0.1794,  ..., -0.1780, -0.2614, -0.0572]],\n",
            "\n",
            "         [[-0.1024, -0.0770, -0.1762,  ...,  0.1613,  0.0066, -0.1803],\n",
            "          [-0.0640, -0.1300, -0.1566,  ..., -0.0434,  0.0517, -0.0884],\n",
            "          [-0.0832, -0.2642, -0.2602,  ..., -0.1432, -0.0398, -0.2309],\n",
            "          ...,\n",
            "          [-0.1318, -0.3476,  0.0295,  ..., -0.1372, -0.1178, -0.1758],\n",
            "          [ 0.0060, -0.0256, -0.0606,  ..., -0.0652, -0.0732, -0.1260],\n",
            "          [-0.1120,  0.0209, -0.1529,  ..., -0.0210,  0.0050, -0.0167]]]],\n",
            "       grad_fn=<DeformConv2dFunction>>)\n",
            "====================\n",
            "tensor([[[[-0.0533, -0.1094, -0.1295,  ..., -0.1028, -0.2283, -0.0099],\n",
            "          [-0.0296,  0.1286,  0.0074,  ..., -0.0488, -0.1632,  0.0092],\n",
            "          [ 0.0053,  0.0940,  0.0029,  ..., -0.1071, -0.2066,  0.0018],\n",
            "          ...,\n",
            "          [-0.1232, -0.0276, -0.1642,  ..., -0.1078,  0.0006,  0.0322],\n",
            "          [-0.0970, -0.0968, -0.1419,  ..., -0.2306, -0.1562, -0.0193],\n",
            "          [-0.0456, -0.0495, -0.0091,  ..., -0.1292, -0.1094, -0.0222]],\n",
            "\n",
            "         [[-0.1869, -0.2770, -0.1584,  ..., -0.0078, -0.1150, -0.0606],\n",
            "          [-0.1206,  0.0782, -0.1262,  ..., -0.2071,  0.0137,  0.0331],\n",
            "          [-0.2159, -0.1292, -0.1817,  ..., -0.1855, -0.2058, -0.0954],\n",
            "          ...,\n",
            "          [-0.2624, -0.1842, -0.1941,  ..., -0.1560,  0.0671, -0.0356],\n",
            "          [-0.1848, -0.3355, -0.2486,  ..., -0.3635, -0.1832, -0.0889],\n",
            "          [-0.1595, -0.1461, -0.1794,  ..., -0.1780, -0.2614, -0.0572]],\n",
            "\n",
            "         [[-0.1024, -0.0770, -0.1762,  ...,  0.1613,  0.0066, -0.1803],\n",
            "          [-0.0640, -0.1300, -0.1566,  ..., -0.0434,  0.0517, -0.0884],\n",
            "          [-0.0832, -0.2642, -0.2602,  ..., -0.1432, -0.0398, -0.2309],\n",
            "          ...,\n",
            "          [-0.1318, -0.3476,  0.0295,  ..., -0.1372, -0.1178, -0.1758],\n",
            "          [ 0.0060, -0.0256, -0.0606,  ..., -0.0652, -0.0732, -0.1260],\n",
            "          [-0.1120,  0.0209, -0.1529,  ..., -0.0210,  0.0050, -0.0167]]]],\n",
            "       grad_fn=<PermuteBackward0>)\n"
          ]
        }
      ]
    }
  ]
}